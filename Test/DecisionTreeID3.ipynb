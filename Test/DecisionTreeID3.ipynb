{
 "cells": [
  {
   "cell_type": "code",
   "execution_count": 1,
   "metadata": {},
   "outputs": [],
   "source": [
    "import sys\n",
    "sys.path.append('..')\n",
    "from Models.DecisionTree import DecisionTree_byID3_OR_C45"
   ]
  },
  {
   "cell_type": "code",
   "execution_count": 2,
   "metadata": {},
   "outputs": [],
   "source": [
    "import numpy as np"
   ]
  },
  {
   "cell_type": "code",
   "execution_count": 3,
   "metadata": {},
   "outputs": [],
   "source": [
    "data = np.loadtxt('../Data/lenses.txt', dtype='str', delimiter='\\t')"
   ]
  },
  {
   "cell_type": "code",
   "execution_count": 4,
   "metadata": {},
   "outputs": [
    {
     "data": {
      "text/plain": [
       "array([['young', 'myope', 'no', 'reduced', 'no lenses'],\n",
       "       ['young', 'myope', 'no', 'normal', 'soft'],\n",
       "       ['young', 'myope', 'yes', 'reduced', 'no lenses'],\n",
       "       ['young', 'myope', 'yes', 'normal', 'hard'],\n",
       "       ['young', 'hyper', 'no', 'reduced', 'no lenses'],\n",
       "       ['young', 'hyper', 'no', 'normal', 'soft'],\n",
       "       ['young', 'hyper', 'yes', 'reduced', 'no lenses'],\n",
       "       ['young', 'hyper', 'yes', 'normal', 'hard'],\n",
       "       ['pre', 'myope', 'no', 'reduced', 'no lenses'],\n",
       "       ['pre', 'myope', 'no', 'normal', 'soft'],\n",
       "       ['pre', 'myope', 'yes', 'reduced', 'no lenses'],\n",
       "       ['pre', 'myope', 'yes', 'normal', 'hard'],\n",
       "       ['pre', 'hyper', 'no', 'reduced', 'no lenses'],\n",
       "       ['pre', 'hyper', 'no', 'normal', 'soft'],\n",
       "       ['pre', 'hyper', 'yes', 'reduced', 'no lenses'],\n",
       "       ['pre', 'hyper', 'yes', 'normal', 'no lenses'],\n",
       "       ['presbyopic', 'myope', 'no', 'reduced', 'no lenses'],\n",
       "       ['presbyopic', 'myope', 'no', 'normal', 'no lenses'],\n",
       "       ['presbyopic', 'myope', 'yes', 'reduced', 'no lenses'],\n",
       "       ['presbyopic', 'myope', 'yes', 'normal', 'hard'],\n",
       "       ['presbyopic', 'hyper', 'no', 'reduced', 'no lenses'],\n",
       "       ['presbyopic', 'hyper', 'no', 'normal', 'soft'],\n",
       "       ['presbyopic', 'hyper', 'yes', 'reduced', 'no lenses'],\n",
       "       ['presbyopic', 'hyper', 'yes', 'normal', 'no lenses']],\n",
       "      dtype='<U10')"
      ]
     },
     "execution_count": 4,
     "metadata": {},
     "output_type": "execute_result"
    }
   ],
   "source": [
    "data"
   ]
  },
  {
   "cell_type": "code",
   "execution_count": 5,
   "metadata": {},
   "outputs": [
    {
     "data": {
      "text/plain": [
       "<Models.DecisionTree.TreeNode at 0x7fcd2407e4f0>"
      ]
     },
     "execution_count": 5,
     "metadata": {},
     "output_type": "execute_result"
    }
   ],
   "source": [
    "model = DecisionTree_byID3_OR_C45()\n",
    "model.BuildTree(data, [0, 1, 2, 3])"
   ]
  },
  {
   "cell_type": "code",
   "execution_count": 6,
   "metadata": {},
   "outputs": [],
   "source": [
    "yfit = []\n",
    "for d in data:\n",
    "    yfit.append(model.predict(d[:-1]))"
   ]
  },
  {
   "cell_type": "code",
   "execution_count": 7,
   "metadata": {},
   "outputs": [],
   "source": [
    "yfit = np.array(yfit)"
   ]
  },
  {
   "cell_type": "code",
   "execution_count": 8,
   "metadata": {},
   "outputs": [
    {
     "data": {
      "text/plain": [
       "0.08333333333333333"
      ]
     },
     "execution_count": 8,
     "metadata": {},
     "output_type": "execute_result"
    }
   ],
   "source": [
    "# 错误率\n",
    "np.sum(yfit != data[:, -1]) / len(data)"
   ]
  },
  {
   "cell_type": "code",
   "execution_count": null,
   "metadata": {},
   "outputs": [],
   "source": []
  }
 ],
 "metadata": {
  "kernelspec": {
   "display_name": "machine learning",
   "language": "python",
   "name": "ml"
  },
  "language_info": {
   "codemirror_mode": {
    "name": "ipython",
    "version": 3
   },
   "file_extension": ".py",
   "mimetype": "text/x-python",
   "name": "python",
   "nbconvert_exporter": "python",
   "pygments_lexer": "ipython3",
   "version": "3.8.1"
  }
 },
 "nbformat": 4,
 "nbformat_minor": 2
}
