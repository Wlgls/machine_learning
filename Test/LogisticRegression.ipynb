{
 "cells": [
  {
   "cell_type": "code",
   "execution_count": 1,
   "metadata": {},
   "outputs": [],
   "source": [
    "import sys\n",
    "sys.path.append('../Models')\n",
    "from LogisticRegression import Logistic_Reg"
   ]
  },
  {
   "cell_type": "code",
   "execution_count": 2,
   "metadata": {},
   "outputs": [],
   "source": [
    "import numpy as np\n",
    "import matplotlib.pyplot as plt"
   ]
  },
  {
   "cell_type": "code",
   "execution_count": 3,
   "metadata": {},
   "outputs": [
    {
     "data": {
      "text/plain": [
       "array([[-0.017612, 14.053064,  0.      ],\n",
       "       [-1.395634,  4.662541,  1.      ],\n",
       "       [-0.752157,  6.53862 ,  0.      ],\n",
       "       [-1.322371,  7.152853,  0.      ],\n",
       "       [ 0.423363, 11.054677,  0.      ],\n",
       "       [ 0.406704,  7.067335,  1.      ],\n",
       "       [ 0.667394, 12.741452,  0.      ],\n",
       "       [-2.46015 ,  6.866805,  1.      ],\n",
       "       [ 0.569411,  9.548755,  0.      ],\n",
       "       [-0.026632, 10.427743,  0.      ]])"
      ]
     },
     "execution_count": 3,
     "metadata": {},
     "output_type": "execute_result"
    }
   ],
   "source": [
    "data = np.loadtxt('../Data/testSet.txt', delimiter='\\t')\n",
    "data[:10]"
   ]
  },
  {
   "cell_type": "code",
   "execution_count": 15,
   "metadata": {},
   "outputs": [
    {
     "data": {
      "text/plain": [
       "array([[-0.017612, 14.053064, -1.      ],\n",
       "       [-1.395634,  4.662541,  1.      ],\n",
       "       [-0.752157,  6.53862 , -1.      ],\n",
       "       [-1.322371,  7.152853, -1.      ],\n",
       "       [ 0.423363, 11.054677, -1.      ],\n",
       "       [ 0.406704,  7.067335,  1.      ],\n",
       "       [ 0.667394, 12.741452, -1.      ],\n",
       "       [-2.46015 ,  6.866805,  1.      ],\n",
       "       [ 0.569411,  9.548755, -1.      ],\n",
       "       [-0.026632, 10.427743, -1.      ]])"
      ]
     },
     "execution_count": 15,
     "metadata": {},
     "output_type": "execute_result"
    }
   ],
   "source": [
    "data[:, -1][data[:, -1]==0] = -1\n",
    "data[:10]"
   ]
  },
  {
   "cell_type": "code",
   "execution_count": 16,
   "metadata": {},
   "outputs": [],
   "source": [
    "model = Logistic_Reg()\n",
    "model.fit(data[:, :-1],data[:, -1], maxCycle=500)"
   ]
  },
  {
   "cell_type": "code",
   "execution_count": 17,
   "metadata": {},
   "outputs": [],
   "source": [
    "ypre = model.predict(data[:, :-1])"
   ]
  },
  {
   "cell_type": "code",
   "execution_count": 18,
   "metadata": {},
   "outputs": [
    {
     "data": {
      "text/plain": [
       "5"
      ]
     },
     "execution_count": 18,
     "metadata": {},
     "output_type": "execute_result"
    }
   ],
   "source": [
    "ypre[ypre>=0.5] = 1\n",
    "ypre[ypre<0.5] = -1\n",
    "np.sum(ypre != data[:, -1])"
   ]
  },
  {
   "cell_type": "code",
   "execution_count": 19,
   "metadata": {},
   "outputs": [
    {
     "data": {
      "text/plain": [
       "<matplotlib.collections.PathCollection at 0x7ff745969760>"
      ]
     },
     "execution_count": 19,
     "metadata": {},
     "output_type": "execute_result"
    },
    {
     "data": {
      "image/png": "[encoded data removed]",
      "text/plain": [
       "<Figure size 432x288 with 1 Axes>"
      ]
     },
     "metadata": {
      "needs_background": "light"
     },
     "output_type": "display_data"
    }
   ],
   "source": [
    "fig = plt.figure()\n",
    "ax = plt.axes()\n",
    "px = data[data[:, -1]==1]\n",
    "nx = data[data[:, -1]==-1]\n",
    "ax.scatter(px[:, 0], px[:, 1], c='green')\n",
    "ax.scatter(nx[:, 0], nx[:, 1], c='red')"
   ]
  },
  {
   "cell_type": "code",
   "execution_count": 20,
   "metadata": {},
   "outputs": [
    {
     "data": {
      "image/png": "[encoded data removed]",
      "text/plain": [
       "<Figure size 432x288 with 1 Axes>"
      ]
     },
     "execution_count": 20,
     "metadata": {},
     "output_type": "execute_result"
    }
   ],
   "source": [
    "a = model.w_\n",
    "x1 = np.arange(-3, 3, 0.1)\n",
    "y1 = (-a[0]-a[1]*x1)/a[2]\n",
    "ax.plot(x1, y1)\n",
    "fig"
   ]
  },
  {
   "cell_type": "code",
   "execution_count": 21,
   "metadata": {},
   "outputs": [],
   "source": [
    "model2 = Logistic_Reg(Algorithm='Stochastic')"
   ]
  },
  {
   "cell_type": "code",
   "execution_count": 22,
   "metadata": {},
   "outputs": [],
   "source": [
    "model2.fit(data[:, :-1], data[:, -1], maxCycle=500)"
   ]
  },
  {
   "cell_type": "code",
   "execution_count": 23,
   "metadata": {},
   "outputs": [],
   "source": [
    "yfit = model2.predict(data[:, :-1])"
   ]
  },
  {
   "cell_type": "code",
   "execution_count": 24,
   "metadata": {},
   "outputs": [
    {
     "data": {
      "text/plain": [
       "5"
      ]
     },
     "execution_count": 24,
     "metadata": {},
     "output_type": "execute_result"
    }
   ],
   "source": [
    "ypre[ypre>=0.5] = 1\n",
    "ypre[ypre<0.5] = -1\n",
    "np.sum(ypre != data[:, -1])"
   ]
  },
  {
   "cell_type": "code",
   "execution_count": 25,
   "metadata": {},
   "outputs": [
    {
     "data": {
      "text/plain": [
       "[<matplotlib.lines.Line2D at 0x7ff745433f40>]"
      ]
     },
     "execution_count": 25,
     "metadata": {},
     "output_type": "execute_result"
    },
    {
     "data": {
      "image/png": "[encoded data removed]",
      "text/plain": [
       "<Figure size 432x288 with 1 Axes>"
      ]
     },
     "metadata": {
      "needs_background": "light"
     },
     "output_type": "display_data"
    }
   ],
   "source": [
    "fig = plt.figure()\n",
    "ax = plt.axes()\n",
    "px = data[data[:, -1]==1]\n",
    "nx = data[data[:, -1]==-1]\n",
    "ax.scatter(px[:, 0], px[:, 1], c='green')\n",
    "ax.scatter(nx[:, 0], nx[:, 1], c='red')\n",
    "a = model.w_\n",
    "x1 = np.arange(-3, 3, 0.1)\n",
    "y1 = (-a[0]-a[1]*x1)/a[2]\n",
    "ax.plot(x1, y1)"
   ]
  },
  {
   "cell_type": "code",
   "execution_count": null,
   "metadata": {},
   "outputs": [],
   "source": []
  }
 ],
 "metadata": {
  "kernelspec": {
   "display_name": "machine learning",
   "language": "python",
   "name": "ml"
  },
  "language_info": {
   "codemirror_mode": {
    "name": "ipython",
    "version": 3
   },
   "file_extension": ".py",
   "mimetype": "text/x-python",
   "name": "python",
   "nbconvert_exporter": "python",
   "pygments_lexer": "ipython3",
   "version": "3.8.1"
  }
 },
 "nbformat": 4,
 "nbformat_minor": 2
}
